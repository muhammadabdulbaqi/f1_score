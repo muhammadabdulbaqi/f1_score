{
  "nbformat": 4,
  "nbformat_minor": 0,
  "metadata": {
    "colab": {
      "provenance": [],
      "authorship_tag": "ABX9TyMvVjGnxiSuiIEVN7BQlMAB",
      "include_colab_link": true
    },
    "kernelspec": {
      "name": "python3",
      "display_name": "Python 3"
    },
    "language_info": {
      "name": "python"
    }
  },
  "cells": [
    {
      "cell_type": "markdown",
      "metadata": {
        "id": "view-in-github",
        "colab_type": "text"
      },
      "source": [
        "<a href=\"https://colab.research.google.com/github/muhammadabdulbaqi/f1_score/blob/main/F1_in_LLMs.ipynb\" target=\"_parent\"><img src=\"https://colab.research.google.com/assets/colab-badge.svg\" alt=\"Open In Colab\"/></a>"
      ]
    },
    {
      "cell_type": "code",
      "execution_count": null,
      "metadata": {
        "id": "Nfq6tqLc_YTl"
      },
      "outputs": [],
      "source": [
        "from sklearn.metrics import accuracy_score, precision_score, recall_score, f1_score\n",
        "\n",
        "# Ground truth (1 = Spam, 0 = Not Spam)\n",
        "y_true = [0, 0, 0, 1, 1, 0, 0, 1, 0, 1]\n",
        "# Simulated predictions from an LLM model\n",
        "y_pred = [0, 0, 0, 1, 0, 0, 0, 0, 0, 1]"
      ]
    },
    {
      "cell_type": "code",
      "source": [
        "# Step 1: Calculate Accuracy\n",
        "accuracy = accuracy_score(y_true, y_pred)\n",
        "print(f\"Accuracy: {accuracy:.2f}\")"
      ],
      "metadata": {
        "id": "dkBZ3rT4_gbc",
        "colab": {
          "base_uri": "https://localhost:8080/"
        },
        "outputId": "c40b93b4-793f-4f43-e079-5ea7969d2519"
      },
      "execution_count": null,
      "outputs": [
        {
          "output_type": "stream",
          "name": "stdout",
          "text": [
            "Accuracy: 0.80\n"
          ]
        }
      ]
    },
    {
      "cell_type": "code",
      "source": [
        "# Step 2: Calculate Precision, Recall, and F1 Score\n",
        "precision = precision_score(y_true, y_pred)\n",
        "recall = recall_score(y_true, y_pred)\n",
        "f1 = f1_score(y_true, y_pred)"
      ],
      "metadata": {
        "id": "uwxdbE7fNhhi"
      },
      "execution_count": null,
      "outputs": []
    },
    {
      "cell_type": "code",
      "source": [
        "print(f\"Precision: {precision:.2f}\")\n",
        "print(f\"Recall: {recall:.2f}\")\n",
        "print(f\"F1 Score: {f1:.2f}\")"
      ],
      "metadata": {
        "colab": {
          "base_uri": "https://localhost:8080/"
        },
        "id": "a43bUAqONlSJ",
        "outputId": "b5bbe987-c627-48c2-dd5f-c935f8fa0137"
      },
      "execution_count": null,
      "outputs": [
        {
          "output_type": "stream",
          "name": "stdout",
          "text": [
            "Precision: 1.00\n",
            "Recall: 0.50\n",
            "F1 Score: 0.67\n"
          ]
        }
      ]
    },
    {
      "cell_type": "code",
      "source": [
        "# Updated predictions after simulating tuning the LLM\n",
        "y_pred_improved = [0, 0, 0, 1, 1, 0, 0, 1, 1, 0]"
      ],
      "metadata": {
        "id": "KEjChVaIQUwc"
      },
      "execution_count": null,
      "outputs": []
    },
    {
      "cell_type": "code",
      "source": [
        "# Step 1: Recalculate Accuracy\n",
        "accuracy_improved = accuracy_score(y_true, y_pred_improved)\n",
        "print(f\"\\nImproved Accuracy: {accuracy_improved:.2f}\")"
      ],
      "metadata": {
        "colab": {
          "base_uri": "https://localhost:8080/"
        },
        "id": "n0zxps0mQdKx",
        "outputId": "0db7df21-f46f-4d8a-b01e-74627a6c30e4"
      },
      "execution_count": null,
      "outputs": [
        {
          "output_type": "stream",
          "name": "stdout",
          "text": [
            "\n",
            "Improved Accuracy: 0.80\n"
          ]
        }
      ]
    },
    {
      "cell_type": "code",
      "source": [
        "# Step 2: Recalculate Precision, Recall, and F1 Score\n",
        "precision_improved = precision_score(y_true, y_pred_improved)\n",
        "recall_improved = recall_score(y_true, y_pred_improved)\n",
        "f1_improved = f1_score(y_true, y_pred_improved)"
      ],
      "metadata": {
        "id": "EB8ayvK2Qm6s"
      },
      "execution_count": null,
      "outputs": []
    },
    {
      "cell_type": "code",
      "source": [
        "print(f\"Improved Precision: {precision_improved:.2f}\")\n",
        "print(f\"Improved Recall: {recall_improved:.2f}\")\n",
        "print(f\"Improved F1 Score: {f1_improved:.2f}\")"
      ],
      "metadata": {
        "colab": {
          "base_uri": "https://localhost:8080/"
        },
        "id": "ts41eHOZQpKW",
        "outputId": "0bc3049f-b1d7-4b45-d285-54346341a9fb"
      },
      "execution_count": null,
      "outputs": [
        {
          "output_type": "stream",
          "name": "stdout",
          "text": [
            "Improved Precision: 0.75\n",
            "Improved Recall: 0.75\n",
            "Improved F1 Score: 0.75\n"
          ]
        }
      ]
    }
  ]
}